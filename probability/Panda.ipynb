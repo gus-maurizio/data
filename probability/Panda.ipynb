{
 "metadata": {
  "name": "PandasTour"
 },
 "nbformat": 3,
 "nbformat_minor": 0,
 "worksheets": [
  {
   "cells": [
    {
     "cell_type": "code",
     "collapsed": false,
     "input": [
      "import numpy as np\n",
      "import pandas as pd\n",
      "from datetime import time\n",
      "pd.set_option('html', False)"
     ],
     "language": "python",
     "metadata": {},
     "outputs": [],
     "prompt_number": 72
    },
    {
     "cell_type": "code",
     "collapsed": false,
     "input": [
      "from IPython.core.display import Image\n",
      "Image('http://akamaicovers.oreilly.com/images/0636920023784/lrg.jpg')"
     ],
     "language": "python",
     "metadata": {},
     "outputs": [
      {
